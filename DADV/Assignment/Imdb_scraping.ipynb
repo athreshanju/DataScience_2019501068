{
 "metadata": {
  "language_info": {
   "codemirror_mode": {
    "name": "ipython",
    "version": 3
   },
   "file_extension": ".py",
   "mimetype": "text/x-python",
   "name": "python",
   "nbconvert_exporter": "python",
   "pygments_lexer": "ipython3",
   "version": "3.8.1"
  },
  "orig_nbformat": 2,
  "kernelspec": {
   "name": "python3",
   "display_name": "Python 3.8.1 64-bit",
   "metadata": {
    "interpreter": {
     "hash": "4c4dcbf70bd5207e231228b99d55900de9e4339680bb90e7805cb201afb12269"
    }
   }
  }
 },
 "nbformat": 4,
 "nbformat_minor": 2,
 "cells": [
  {
   "cell_type": "code",
   "execution_count": 2,
   "metadata": {},
   "outputs": [],
   "source": [
    "import requests\n",
    "import urllib\n",
    "from bs4 import BeautifulSoup\n",
    "import re\n",
    "import io\n",
    "import gzip"
   ]
  },
  {
   "cell_type": "code",
   "execution_count": 3,
   "metadata": {},
   "outputs": [
    {
     "output_type": "execute_result",
     "data": {
      "text/plain": [
       "<a class=\"tracked-offsite-link\" data-ref=\"fea_mn_lk3\" href=\"https://datasets.imdbws.com/\" target=\"_blank\">https://datasets.imdbws.com/</a>"
      ]
     },
     "metadata": {},
     "execution_count": 3
    }
   ],
   "source": [
    "url = \"https://www.imdb.com/interfaces/\"\n",
    "page = requests.get(url)\n",
    "soup = BeautifulSoup(page.content, 'html.parser')\n",
    "mytag = soup.find_all(\"a\",text=re.compile(\"https://datasets.imdbws.com/\"))[0]\n",
    "mytag"
   ]
  },
  {
   "cell_type": "code",
   "execution_count": 4,
   "metadata": {},
   "outputs": [],
   "source": [
    "url = mytag.contents[0]\n",
    "page = requests.get(url)\n",
    "soup = BeautifulSoup(page.content, 'html.parser')\n",
    "mytag = soup.find_all(\"a\")"
   ]
  },
  {
   "cell_type": "code",
   "execution_count": 5,
   "metadata": {},
   "outputs": [
    {
     "output_type": "stream",
     "name": "stdout",
     "text": [
      "https://datasets.imdbws.com/name.basics.tsv.gz\nhttps://datasets.imdbws.com/title.akas.tsv.gz\nhttps://datasets.imdbws.com/title.basics.tsv.gz\nhttps://datasets.imdbws.com/title.crew.tsv.gz\nhttps://datasets.imdbws.com/title.episode.tsv.gz\nhttps://datasets.imdbws.com/title.principals.tsv.gz\nhttps://datasets.imdbws.com/title.ratings.tsv.gz\n"
     ]
    }
   ],
   "source": [
    "for a in mytag[1:]:\n",
    "    print(a[\"href\"])"
   ]
  },
  {
   "cell_type": "code",
   "execution_count": 6,
   "metadata": {},
   "outputs": [],
   "source": [
    "filename_url = []\n",
    "filename = re.findall(re.compile(r\"/(name.*)\"),mytag[1][\"href\"])[0][:-3]\n",
    "filename_url.append((filename,mytag[1][\"href\"]))\n",
    "for link in mytag[2:]:\n",
    "    filename = re.findall(re.compile(r\"/(title.*)\"),link[\"href\"])[0][:-3]\n",
    "    filename_url.append((filename,link[\"href\"]))"
   ]
  },
  {
   "cell_type": "code",
   "execution_count": 7,
   "metadata": {},
   "outputs": [
    {
     "output_type": "execute_result",
     "data": {
      "text/plain": [
       "[('name.basics.tsv', 'https://datasets.imdbws.com/name.basics.tsv.gz'),\n",
       " ('title.akas.tsv', 'https://datasets.imdbws.com/title.akas.tsv.gz'),\n",
       " ('title.basics.tsv', 'https://datasets.imdbws.com/title.basics.tsv.gz'),\n",
       " ('title.crew.tsv', 'https://datasets.imdbws.com/title.crew.tsv.gz'),\n",
       " ('title.episode.tsv', 'https://datasets.imdbws.com/title.episode.tsv.gz'),\n",
       " ('title.principals.tsv',\n",
       "  'https://datasets.imdbws.com/title.principals.tsv.gz'),\n",
       " ('title.ratings.tsv', 'https://datasets.imdbws.com/title.ratings.tsv.gz')]"
      ]
     },
     "metadata": {},
     "execution_count": 7
    }
   ],
   "source": [
    "filename_url"
   ]
  },
  {
   "cell_type": "code",
   "execution_count": 8,
   "metadata": {},
   "outputs": [],
   "source": [
    "for filename,url in filename_url:\n",
    "    response = urllib.request.urlopen(url)\n",
    "    compressed_file = io.BytesIO(response.read())\n",
    "    decompressed_file = gzip.GzipFile(fileobj=compressed_file)\n",
    "    with open(filename,\"wb\") as fd:\n",
    "        fd.write(decompressed_file.read())"
   ]
  },
  {
   "cell_type": "code",
   "execution_count": null,
   "metadata": {},
   "outputs": [],
   "source": []
  }
 ]
}